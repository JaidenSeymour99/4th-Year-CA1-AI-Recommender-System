{
 "cells": [
  {
   "cell_type": "markdown",
   "id": "7c4791aa",
   "metadata": {},
   "source": [
    "# Introduction\n",
    "\n",
    "In this report I will be researching the Applications of Artificial Intelligence(AI) and their strenghts and limiations, and Recommender Systems such as Content-Based systems and collaborative systems. I will also be making my own Content-Based recommender system that will recommend similar Pokémon to whatever pokémon that you insert based on their stats (HP, Type)."
   ]
  },
  {
   "cell_type": "markdown",
   "id": "3a83eb30",
   "metadata": {},
   "source": [
    "# Applications of AI\n",
    "There are many applications of AI. AI is used in almost all business sectors *(Biswal, 2021)*, in E-commerce AI is used to personalize shopping by using recommender systems, it also uses chatbots or virtual shop assistants to help the user with any problems they run into. These chatbots use Natural Language Processing (NLP) to make the conversation between the user and chatbot more personal and human-like. \n",
    "\n",
    "In Robotics AI has robots that can sense obstacles that are in between the robot and its destination, the robot will plan its route with these obstacles taken into consideration. These robots can carry and move merchandise in warehouses, hospitals, and factories. These robots can also be used to clean, Pittsburgh's airport is the first in the US to start using UV cleaning robots *(Lyons, 2021)*. \n",
    "\n",
    "In Navigation AI is used to find the most efficient routes based on road traffic, road types and number of lanes. \n",
    "\n",
    "In Healthcare AI can be used to make machines that detect diseases, AI can be used to help examine patient data to find possible early diagnoses. \n",
    "\n",
    "In Gaming AI can be used to make smart NPC characters that can interact with players. \n",
    "\n",
    "In Social Media recommender systems are used a lot, when you like a post the AI will add that to the library of things you have liked and accounts you follow and try to suggest media that relates to the posts you like, it can also suggest things that aren’t related to the posts or accounts you follow, It will used data from other users who like the things you do and show you things the other people like. Facebook uses DeepText (a tool) which instantly translates text posts.\n",
    "\n",
    "## Strengths / Limitations\n",
    "\n",
    "* With AI decisions are based on truth tables which takes out a lot of the human error when dealing with situations that might have variance because of emotions.\n",
    "* Machines can continue to work for as long as desired, whereas humans will need sleep and breaks in their work.\n",
    "* Transfer of knowledge is much easier, once trained an artificial mind can be replicated to other artificial minds, while humans take a long time comparatively to learn and transfer knowledge *(Borana, 2021)*.\n",
    "* Ineffectiveness at describing the reasoning of certain decisions *(Borana, 2021)*.\n",
    "* Malfunctions can lead to machines learning things that are not correct.\n",
    "* Lack of common sense."
   ]
  },
  {
   "cell_type": "markdown",
   "id": "b9a21385",
   "metadata": {},
   "source": [
    "# Recommender Systems\n",
    "Recommender systems give a consumer relevant recommendations \n",
    "There are 6 main types of Recommender systems:\n",
    "* Content-based Recommender\n",
    "* Collaborative Recommender\n",
    "* Knowledge based Recommender\n",
    "* Demographic based Recommender\n",
    "* Utility based Recommender\n",
    "* Hybrid Recommender\n",
    "\n",
    "*(Classifying Different Types of Recommender Systems, 2021)*\n",
    "\n",
    "## Content-Based Approach\n",
    "The Content-Based approach will take in preference data from a user, for example if the user has rated the movie Star Wars II 5/5 stars and the genre is action, it will be likely to recommend other action movies. It could also recommend other movies of different genre with the actors that were in the movie that was rated 5/5 stars. This system uses keywords that can be used to link to other products you could like, in the movies example the user rated the \"Action\" movie. These keywords are used to link other products related to that keyword. This system is highly dependent on user reactions and input. This system can make good recommendations on niche products as it only recommends based on what you have interacted with.\n",
    "### Method 1: Vector space method\n",
    "Using the movie example, the user rated an action movie 5/5 stars, if they also rated a comedy movie 1/5 stars, a rating system is created, a rating system from 0-9 where 9 is the 5/5 stars action movie and 0 or 1 is the 1/5 stars comedy movie. The users next recommendation will most likely be an action movie as it has the highest genre rating.\n",
    "A user vector is made with all the data the user gave it in reviews and likes, the system ranks the data. This is done before an item vector is made where movies are graded by genre. Every movie name is then given a value by multiplying and getting the dot product of both vectors the value that is returned from this is used to recommend other similar valued movies. *(Mishra, 2021)*\n",
    "### Method 2: Classification method\n",
    "In this method we find if the user will want to watch a certain movie with a decision tree. for example the movie is Pompei, since it is not by the same director and the genre is not an action and a genre the user has never left a rating on we get the conclusion that this movie should not be recommended to this user.\n",
    "\n",
    "## Collaborative Approach\n",
    "This Collaborative approach gathers all the ratings and reviews of objects and finds the similarities between a user based on that user's ratings and reviews, it will then create a new recommendation using inter-user comparisons *(Classifying Different Types of Recommender Systems, 2021)*. Using past reviews or interactions from users and the target items is called Collaborative filtering methods, this system relies on users who liked things in the past to still like them later in life.\n",
    "\n",
    "When a all this data is funnelled into a Collaborative filtering system, normally the information is stored as a matrix where rows are users and cols are items. Users’ old reviews and ratings should be enough to create new recommendations.\n",
    "### Memory Based\n",
    "Memory based is quite basic as it predicts recommended information based on memory of past data, it mainly uses a distance calculation, for example the nearest neighbor method which checks for items with a similar data types.  \n",
    "### Model Based\n",
    "Model based creates a model of user ratings and reviews, probability is used to find an expected value a user might give. when a prediction is made it needs to fit into the model.\n",
    "\n",
    "## Knowledge based Approach\n",
    "The Knowledge approach will attempt to recommend an item that is needed by the user based on evidence and reasoning, it takes into account the user's preferences and needs. The knowledge approach understands the function of the item it suggests and understands the need of an item from the user's view.   \n",
    "\n",
    "## Demographic based Approach\n",
    "The Demographic approach will create recommendations based on demographic attributes such as; age, sex, family status, occupation, income, race, education level and employment. The good this about this is that it does not require a history of user ratings, however the algorithms will need proper market research wherever this system is being used. These demographic based systems form people to people correlations, this is similar to collaborative systems.\n",
    "\n",
    "## Utility based Approach\n",
    "The Utility approach mathematically calculates how useful an object would be for a user. The biggest advantage of this is approach is that it doesn't just focus on the product, it also focusses on vendor reliability and availability.\n",
    "\n",
    "## Hybrid Approach\n",
    "Combining two systems so that the system suits a certain industry is a Hybrid Approach. Using two Recommender systems together gets rid of the weakness' of just using one system, while mixing the strengths of two different recommender systems. there are different ways the systems can be fused.\n",
    "### Weighted Hybrid \n",
    "In this system a score value is calculated from the recommended techniques that the systems use, the higher the score the more likely the user will want that item. \n",
    "\n",
    "### Switching Hybrid \n",
    "This system switches between different recommender techniques depending on certain basis, e.g., if collaborative and content-based systems are combined it will attempt to use a collaborative technique and if that doesn't work will switch to a content based technique. \n",
    "\n",
    "### Mixed Hybrid\n",
    "This system is used to show a wide variety of suggestions, it uses multiple different techniques together."
   ]
  },
  {
   "cell_type": "markdown",
   "id": "8d2293f9",
   "metadata": {},
   "source": [
    "# Pokémon Recommender\n",
    "\n",
    "\n",
    "## Description\n",
    "My system will take in the users desired HP and Type and will find 5 (or as many as you want) Pokémon that have the same Type and as close to the desired HP value possible.\n",
    "\n",
    "## Implementation"
   ]
  },
  {
   "cell_type": "code",
   "execution_count": 1,
   "id": "66c1bb2a",
   "metadata": {},
   "outputs": [],
   "source": [
    "import pandas as pd\n",
    "import numpy as np\n",
    "#Importing pandas and numpy \n",
    "#Pandas for data analysis and numpy for mathamatical operations on arrays.\n",
    "\n",
    "import sklearn\n",
    "from sklearn.neighbors import NearestNeighbors\n",
    "#This package will be used to group Pokémon with similar HP values."
   ]
  },
  {
   "cell_type": "markdown",
   "id": "198e9bc8",
   "metadata": {},
   "source": [
    "citation for data set (Barradas, 2021)"
   ]
  },
  {
   "cell_type": "code",
   "execution_count": 2,
   "id": "869a9f75",
   "metadata": {},
   "outputs": [],
   "source": [
    "pokemonData = pd.read_csv('Pokemon.csv')\n",
    "#Reading in the csv file."
   ]
  },
  {
   "cell_type": "code",
   "execution_count": 3,
   "id": "65952217",
   "metadata": {},
   "outputs": [],
   "source": [
    "#*********Insert desired stats to be recommended some pokémon**********\n",
    "desiredType = 'Dragon'\n",
    "desiredHP = [80]\n",
    "#this is where you enter how much hp you want on the pokemon that will be recommended and what type it will be.\n",
    "#max hp pokémon is 255, min hp pokémon 1\n"
   ]
  },
  {
   "cell_type": "code",
   "execution_count": 4,
   "id": "1aff75fa",
   "metadata": {},
   "outputs": [
    {
     "data": {
      "text/html": [
       "<div>\n",
       "<style scoped>\n",
       "    .dataframe tbody tr th:only-of-type {\n",
       "        vertical-align: middle;\n",
       "    }\n",
       "\n",
       "    .dataframe tbody tr th {\n",
       "        vertical-align: top;\n",
       "    }\n",
       "\n",
       "    .dataframe thead th {\n",
       "        text-align: right;\n",
       "    }\n",
       "</style>\n",
       "<table border=\"1\" class=\"dataframe\">\n",
       "  <thead>\n",
       "    <tr style=\"text-align: right;\">\n",
       "      <th></th>\n",
       "      <th>#</th>\n",
       "      <th>Name</th>\n",
       "      <th>Type 1</th>\n",
       "      <th>Type 2</th>\n",
       "      <th>Total</th>\n",
       "      <th>HP</th>\n",
       "      <th>Attack</th>\n",
       "      <th>Defense</th>\n",
       "      <th>Sp. Atk</th>\n",
       "      <th>Sp. Def</th>\n",
       "      <th>Speed</th>\n",
       "      <th>Generation</th>\n",
       "      <th>Legendary</th>\n",
       "    </tr>\n",
       "  </thead>\n",
       "  <tbody>\n",
       "    <tr>\n",
       "      <th>7</th>\n",
       "      <td>6</td>\n",
       "      <td>CharizardMega Charizard X</td>\n",
       "      <td>Fire</td>\n",
       "      <td>Dragon</td>\n",
       "      <td>634</td>\n",
       "      <td>78</td>\n",
       "      <td>130</td>\n",
       "      <td>111</td>\n",
       "      <td>130</td>\n",
       "      <td>85</td>\n",
       "      <td>100</td>\n",
       "      <td>1</td>\n",
       "      <td>False</td>\n",
       "    </tr>\n",
       "    <tr>\n",
       "      <th>159</th>\n",
       "      <td>147</td>\n",
       "      <td>Dratini</td>\n",
       "      <td>Dragon</td>\n",
       "      <td>NaN</td>\n",
       "      <td>300</td>\n",
       "      <td>41</td>\n",
       "      <td>64</td>\n",
       "      <td>45</td>\n",
       "      <td>50</td>\n",
       "      <td>50</td>\n",
       "      <td>50</td>\n",
       "      <td>1</td>\n",
       "      <td>False</td>\n",
       "    </tr>\n",
       "    <tr>\n",
       "      <th>160</th>\n",
       "      <td>148</td>\n",
       "      <td>Dragonair</td>\n",
       "      <td>Dragon</td>\n",
       "      <td>NaN</td>\n",
       "      <td>420</td>\n",
       "      <td>61</td>\n",
       "      <td>84</td>\n",
       "      <td>65</td>\n",
       "      <td>70</td>\n",
       "      <td>70</td>\n",
       "      <td>70</td>\n",
       "      <td>1</td>\n",
       "      <td>False</td>\n",
       "    </tr>\n",
       "    <tr>\n",
       "      <th>161</th>\n",
       "      <td>149</td>\n",
       "      <td>Dragonite</td>\n",
       "      <td>Dragon</td>\n",
       "      <td>Flying</td>\n",
       "      <td>600</td>\n",
       "      <td>91</td>\n",
       "      <td>134</td>\n",
       "      <td>95</td>\n",
       "      <td>100</td>\n",
       "      <td>100</td>\n",
       "      <td>80</td>\n",
       "      <td>1</td>\n",
       "      <td>False</td>\n",
       "    </tr>\n",
       "    <tr>\n",
       "      <th>196</th>\n",
       "      <td>181</td>\n",
       "      <td>AmpharosMega Ampharos</td>\n",
       "      <td>Electric</td>\n",
       "      <td>Dragon</td>\n",
       "      <td>610</td>\n",
       "      <td>90</td>\n",
       "      <td>95</td>\n",
       "      <td>105</td>\n",
       "      <td>165</td>\n",
       "      <td>110</td>\n",
       "      <td>45</td>\n",
       "      <td>2</td>\n",
       "      <td>False</td>\n",
       "    </tr>\n",
       "  </tbody>\n",
       "</table>\n",
       "</div>"
      ],
      "text/plain": [
       "       #                       Name    Type 1  Type 2  Total  HP  Attack  \\\n",
       "7      6  CharizardMega Charizard X      Fire  Dragon    634  78     130   \n",
       "159  147                    Dratini    Dragon     NaN    300  41      64   \n",
       "160  148                  Dragonair    Dragon     NaN    420  61      84   \n",
       "161  149                  Dragonite    Dragon  Flying    600  91     134   \n",
       "196  181      AmpharosMega Ampharos  Electric  Dragon    610  90      95   \n",
       "\n",
       "     Defense  Sp. Atk  Sp. Def  Speed  Generation  Legendary  \n",
       "7        111      130       85    100           1      False  \n",
       "159       45       50       50     50           1      False  \n",
       "160       65       70       70     70           1      False  \n",
       "161       95      100      100     80           1      False  \n",
       "196      105      165      110     45           2      False  "
      ]
     },
     "execution_count": 4,
     "metadata": {},
     "output_type": "execute_result"
    }
   ],
   "source": [
    "filteredTypes = pokemonData[(pokemonData['Type 1'] == desiredType) | (pokemonData['Type 2'] == desiredType)]\n",
    "#Making a new filtered array of only Pokémon with the desired type.\n",
    "#filteredTypes\n",
    "filteredTypes.head(5)\n",
    "#change the number in head() to get however many results back"
   ]
  },
  {
   "cell_type": "code",
   "execution_count": 5,
   "id": "2f0bbb8e",
   "metadata": {},
   "outputs": [
    {
     "data": {
      "text/plain": [
       "array([ 78,  41,  61,  91,  90,  75,  70,  50,  80,  75,  75,  45,  65,\n",
       "        95,  95,  80,  80,  80,  80, 105, 105,  58,  68, 108, 108, 100,\n",
       "        90, 150, 150,  46,  66,  76,  77,  52,  72,  92, 100, 100, 125,\n",
       "       125, 125,  65,  58,  82,  45,  68,  90,  40,  85, 108], dtype=int64)"
      ]
     },
     "execution_count": 5,
     "metadata": {},
     "output_type": "execute_result"
    }
   ],
   "source": [
    "Y = filteredTypes.iloc[:,(5)].values\n",
    "#Getting an array of all the HP values, 5 is HP col\n",
    "#dexNum = filteredTypes.iloc[:,(0)].values\n",
    "Y"
   ]
  },
  {
   "cell_type": "code",
   "execution_count": 6,
   "id": "faf28ff0",
   "metadata": {
    "scrolled": true
   },
   "outputs": [
    {
     "data": {
      "text/plain": [
       "(array([[0., 0., 0., 0., 0.]]), array([[ 8, 18, 16, 15, 17]], dtype=int64))"
      ]
     },
     "execution_count": 6,
     "metadata": {},
     "output_type": "execute_result"
    }
   ],
   "source": [
    "nbrs = NearestNeighbors(n_neighbors=5).fit(Y.reshape(-1,1))\n",
    "#Using NearestNeighbors function which finds 5 closest matches to the desiredHP\n",
    "#.fit puts the model to the data.\n",
    "#I had to .reshape(-1,1) the Y array as Y is a 1d array, this turns it into a 2D array\n",
    "#.reshape gives the array a new shape without changing the data in the array.\n",
    "recommendedHP = nbrs.kneighbors([desiredHP])\n",
    "recommendedHP\n",
    "#When recommendedHP is printed the first numbers array is how far away from the desiredHP is from the recommendedHP value,\n",
    "#the second set of numbers is the id for the pokemon"
   ]
  },
  {
   "cell_type": "markdown",
   "id": "165e5632",
   "metadata": {},
   "source": [
    "In the above data set the first set of numbers is the distance away from the desired HP value, and the second set of numbers is the index of which Pokémond is the nearest neighbour to the desired HP"
   ]
  },
  {
   "cell_type": "markdown",
   "id": "ab40ea8e",
   "metadata": {},
   "source": [
    "# References\n",
    "\n",
    "*Barradas, A., 2021. Pokemon with stats. [online] Kaggle.com. Available at: <https://www.kaggle.com/abcsds/pokemon> [Accessed 7 November 2021].*\n",
    "\n",
    "*Biswal, A., 2021. [online] simplilearn. Available at: <https://www.simplilearn.com/tutorials/artificial-intelligence-tutorial/artificial-intelligence-applications> [Accessed 7 November 2021].*\n",
    "\n",
    "*BluePi. 2021. Classifying Different Types of Recommender Systems. [online] Available at:<https://www.bluepiit.com/blog/classifying-recommender-systems/> [Accessed 7 November 2021].*\n",
    "\n",
    "*Borana, J., 2021. Applications of Artificial Intelligence & Associated Technologies. [online] Test.globalinfocloud.com. Available at: <https://test.globalinfocloud.com/technodigisoftnew/wp-content/uploads/2019/07/Applications-of-Artificial-Intelligence-Associated-Technologies.pdf> [Accessed 8 November 2021].*\n",
    "\n",
    "*Lyons, K., 2021. Pittsburgh’s airport is the first in the US to use UV-cleaning robots. [online] The Verge. Available at: <https://www.theverge.com/2020/5/7/21249319/pittsburgh-airport-uv-robots-coronavirus-cleaning-disinfecting> [Accessed 7 November 2021].*\n",
    "\n",
    "*Mishra, U., 2021. What is a Content-based Recommendation System in Machine Learning?| Analytics Steps. [online] Analyticssteps.com. Available at: <https://www.analyticssteps.com/blogs/what-content-based-recommendation-system-machine-learning> [Accessed 7 November 2021].*\n",
    "\n",
    "*Pierson, L., 2021. Content-based recommender systems - Python Video Tutorial | LinkedIn Learning, formerly Lynda.com. [online] LinkedIn. Available at: <https://www.linkedin.com/learning/building-a-recommendation-system-with-python-machine-learning-ai/content-based-recommender-systems?autoAdvance=true&autoSkip=false&autoplay=true&resume=false&u=56744273> [Accessed 7 November 2021].*\n",
    "\n",
    "*W3schools.com. 2021. NumPy Filter Array. [online] Available at: <https://www.w3schools.com/python/numpy/numpy_array_filter.asp> [Accessed 7 November 2021].*"
   ]
  }
 ],
 "metadata": {
  "kernelspec": {
   "display_name": "Python 3",
   "language": "python",
   "name": "python3"
  },
  "language_info": {
   "codemirror_mode": {
    "name": "ipython",
    "version": 3
   },
   "file_extension": ".py",
   "mimetype": "text/x-python",
   "name": "python",
   "nbconvert_exporter": "python",
   "pygments_lexer": "ipython3",
   "version": "3.8.8"
  }
 },
 "nbformat": 4,
 "nbformat_minor": 5
}
